{
 "cells": [
  {
   "cell_type": "code",
   "execution_count": null,
   "metadata": {},
   "outputs": [],
   "source": [
    "import pandas as pd\n",
    "import matplotlib.pyplot as plt\n",
    "import numpy as np\n",
    "import os\n",
    "from yolo_config import Config\n",
    "from yolo_detect import plot_detection_comparison"
   ]
  },
  {
   "cell_type": "code",
   "execution_count": null,
   "metadata": {},
   "outputs": [],
   "source": [
    "nano_results_path = os.path.join(Config.RUNS_DIR, Config.DATASET, 'yolov8n.pt', Config.METRICS_FILE)\n",
    "nano_results = pd.read_csv(nano_results_path, index_col=0)\n",
    "\n",
    "small_results_path = os.path.join(Config.RUNS_DIR, Config.DATASET, 'yolov8s.pt', Config.METRICS_FILE)\n",
    "small_results = pd.read_csv(small_results_path, index_col=0)\n",
    "\n",
    "medium_results_path = os.path.join(Config.RUNS_DIR, Config.DATASET, 'yolov8m.pt', Config.METRICS_FILE)\n",
    "medium_results = pd.read_csv(medium_results_path, index_col=0)"
   ]
  },
  {
   "cell_type": "code",
   "execution_count": null,
   "metadata": {},
   "outputs": [],
   "source": [
    "metrics = ['metrics/mAP50(B)', 'metrics/mAP50-95(B)']\n",
    "\n",
    "fig, axes = plt.subplots(1, 2, figsize=(9,4), dpi=160)\n",
    "fig.tight_layout(pad=3)\n",
    "axes = axes.flat\n",
    "\n",
    "for i, metric in enumerate(metrics):\n",
    "\n",
    "    ax = axes[i]\n",
    "\n",
    "    ax.plot(nano_results.index, nano_results[metric], alpha=0.6, label='Model Nano')\n",
    "    ax.scatter(nano_results.index, nano_results[metric], alpha=0.6, s=10)\n",
    "    ax.plot(small_results.index, small_results[metric], alpha=0.6, label='Model Small')\n",
    "    ax.scatter(small_results.index, small_results[metric], alpha=0.6, s=10)\n",
    "    ax.plot(medium_results.index, medium_results[metric], alpha=0.6, label='Model Medium')\n",
    "    ax.scatter(medium_results.index, medium_results[metric], alpha=0.6, s=10)\n",
    "\n",
    "    ax.legend(fontsize=6)\n",
    "\n",
    "    y_ticks = np.round(np.arange(0,1.1,0.2), 1)\n",
    "    x_ticks = Config.THRESHOLDS\n",
    "    ax.set_yticks(y_ticks, labels=y_ticks, fontsize=6)\n",
    "    ax.set_xticks(x_ticks, labels=x_ticks, fontsize=6)\n",
    "\n",
    "    ax.set_xlabel(\"Detection Threshold\", fontsize=8)\n",
    "    ax.set_ylabel(metric, fontsize=8)"
   ]
  },
  {
   "cell_type": "code",
   "execution_count": null,
   "metadata": {},
   "outputs": [],
   "source": [
    "model_size = 'yolov8n.pt'\n",
    "validation_path = os.path.join(Config.RUNS_DIR, Config.DATASET, model_size, 'fold_1', 'train')\n",
    "plot_detection_comparison(validation_path)"
   ]
  }
 ],
 "metadata": {
  "language_info": {
   "name": "python"
  }
 },
 "nbformat": 4,
 "nbformat_minor": 2
}
